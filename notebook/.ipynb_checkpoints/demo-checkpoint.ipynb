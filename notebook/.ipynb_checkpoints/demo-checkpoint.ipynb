{
 "cells": [
  {
   "cell_type": "markdown",
   "id": "7036a39f-b38d-4849-971a-afddc9b9b427",
   "metadata": {},
   "source": [
    "### **Environment Setup & State Reset**"
   ]
  },
  {
   "cell_type": "code",
   "execution_count": 1,
   "id": "8fb5e20d-4cee-42d4-84d0-e7923c71c954",
   "metadata": {},
   "outputs": [
    {
     "name": "stdout",
     "output_type": "stream",
     "text": [
      "/Users/rohitkhanna/memosynth--lite/venv/bin/python\n"
     ]
    }
   ],
   "source": [
    "#To print the full path to the Python interpreter that is currently running your script or notebook.\n",
    "import sys\n",
    "print(sys.executable)\n"
   ]
  },
  {
   "cell_type": "code",
   "execution_count": 3,
   "id": "bb58b8b0-59df-4e2c-bf09-12938082b5cc",
   "metadata": {},
   "outputs": [],
   "source": [
    "#To add the parent directory of your current script or notebook to Python’s module search path.\n",
    "import sys, os\n",
    "sys.path.append(os.path.abspath(\"..\"))\n"
   ]
  },
  {
   "cell_type": "code",
   "execution_count": 26,
   "id": "e372bbd3-f39f-4769-a282-448c07fa3069",
   "metadata": {},
   "outputs": [],
   "source": [
    "#Import your APIs and sample memories\n",
    "from memosynth.vector_store import write_memory\n",
    "from memosynth.timeline_store import log_memory\n",
    "from memosynth.memory_client import (query_memory, summarize_memories, diff, resolve, example_memory)\n",
    "import duckdb\n",
    "import pandas as pd"
   ]
  },
  {
   "cell_type": "code",
   "execution_count": 5,
   "id": "1effa387-5867-4c5a-adef-99e396bd2abb",
   "metadata": {},
   "outputs": [
    {
     "data": {
      "text/plain": [
       "True"
      ]
     },
     "execution_count": 5,
     "metadata": {},
     "output_type": "execute_result"
    }
   ],
   "source": [
    "#To delete any existing collection of memories to avoid overlap or confusion\n",
    "from qdrant_client import QdrantClient\n",
    "\n",
    "client = QdrantClient(\"http://localhost:6333\")\n",
    "client.delete_collection(collection_name=\"memos\")\n"
   ]
  },
  {
   "cell_type": "code",
   "execution_count": 19,
   "id": "ff65e026-4b8c-48b0-a132-2f0ec4234900",
   "metadata": {},
   "outputs": [
    {
     "data": {
      "text/plain": [
       "<duckdb.duckdb.DuckDBPyConnection at 0x1459853b0>"
      ]
     },
     "execution_count": 19,
     "metadata": {},
     "output_type": "execute_result"
    }
   ],
   "source": [
    "# Clear the timeline table to avoid duplicate entries in a demo\n",
    "con.execute(\"DELETE FROM memory_log\")\n"
   ]
  },
  {
   "cell_type": "markdown",
   "id": "4832689b-22e7-4be8-87e2-3b88b5b6fb2a",
   "metadata": {},
   "source": [
    "### **Define Memories**"
   ]
  },
  {
   "cell_type": "code",
   "execution_count": 21,
   "id": "2b2bd2d2-760a-47cb-8641-903ea97a6bf4",
   "metadata": {},
   "outputs": [],
   "source": [
    "#Define three memories\n",
    "memory1 = example_memory\n",
    "memory2 = {\n",
    "    \"id\": \"m-002\",\n",
    "    \"project\": \"demo_project\",\n",
    "    \"agent\": \"doc_bot\",\n",
    "    \"summary\": \"Client is expecting an up-to-date forecast of Q3 to plan ahead for pitfalls.\",\n",
    "    \"type\": \"insight\",\n",
    "    \"tags\": [\"finance\", \"Q3\", \"forecast\",\"planning\",\"pitfalls\"],\n",
    "    \"source\": \"Finance_Forecast_Q3.pdf\",\n",
    "    \"author\": \"doc_bot\",\n",
    "    \"created_at\": \"2025-06-22\",\n",
    "    \"version\": 1,\n",
    "    \"confidence\": 0.8,\n",
    "    \"visibility\": \"project\",\n",
    "    \"sensitivity\": \"medium\"\n",
    "}\n",
    "memory3 = {\n",
    "    \"id\": \"m-003\",\n",
    "    \"project\": \"demo_project\",\n",
    "    \"agent\": \"doc_bot\",\n",
    "    \"summary\": \"Client expressed concern about rising costs in Q2.\",\n",
    "    \"type\": \"insight\",\n",
    "    \"tags\": [\"finance\", \"Q2\", \"costs\"],\n",
    "    \"source\": \"Finance_Report_Q2.pdf\",\n",
    "    \"author\": \"doc_bot\",\n",
    "    \"created_at\": \"2025-06-22\",\n",
    "    \"version\": 1,\n",
    "    \"confidence\": 0.92,\n",
    "    \"visibility\": \"project\",\n",
    "    \"sensitivity\": \"medium\"\n",
    "}"
   ]
  },
  {
   "cell_type": "markdown",
   "id": "de15f6d3-0639-445e-bb0f-c7ff6e502864",
   "metadata": {},
   "source": [
    "### **Store Memories (Vector, Timeline, Graph)**"
   ]
  },
  {
   "cell_type": "code",
   "execution_count": 23,
   "id": "a2b5f731-03dd-49c6-9e6a-154ea99ca23f",
   "metadata": {},
   "outputs": [],
   "source": [
    "#Write and log the memories\n",
    "write_memory(memory1)\n",
    "log_memory(memory1)\n",
    "write_memory(memory2)\n",
    "log_memory(memory2)\n",
    "write_memory(memory3)\n",
    "log_memory(memory3)"
   ]
  },
  {
   "cell_type": "code",
   "execution_count": 36,
   "id": "6bd0e8dd-5f77-48ee-894c-3e45a92b33f1",
   "metadata": {},
   "outputs": [],
   "source": [
    "# Connect to the DuckDB timeline database\n",
    "con = duckdb.connect('memory_timeline.db')\n",
    "\n",
    "# Query all timeline entries ordered by timestamp descending\n",
    "query = \"SELECT * FROM memory_log ORDER BY timestamp DESC\"\n",
    "  \n"
   ]
  },
  {
   "cell_type": "code",
   "execution_count": 53,
   "id": "692479cf-0692-4366-b2b4-bcd773da2c8b",
   "metadata": {},
   "outputs": [],
   "source": [
    "from memosynth.graph_store import create_memory_node, relate_memories, find_related_memories\n",
    "\n",
    "# Create nodes if not already present\n",
    "create_memory_node(memory1)\n",
    "create_memory_node(memory2)\n",
    "create_memory_node(memory3)\n"
   ]
  },
  {
   "cell_type": "markdown",
   "id": "d247b7a4-2729-4263-af0a-1a93c80574f1",
   "metadata": {},
   "source": [
    "### **Graph Memory**"
   ]
  },
  {
   "cell_type": "code",
   "execution_count": 15,
   "id": "06e0585c-9544-40a5-8cc1-facb06d98869",
   "metadata": {},
   "outputs": [],
   "source": [
    "#Establish relation between the memory nodes based on your analysis\n",
    "relate_memories(memory1[\"id\"], memory2[\"id\"], rel_type=\"RELATED_TO\")\n",
    "relate_memories(memory3[\"id\"], memory1[\"id\"], rel_type=\"FOLLOWS\")\n",
    "relate_memories(memory3[\"id\"], memory2[\"id\"], rel_type=\"CAUSES\")"
   ]
  },
  {
   "cell_type": "code",
   "execution_count": 55,
   "id": "eb64ee26-a3ee-4d9d-bf8b-ff3234157f55",
   "metadata": {},
   "outputs": [
    {
     "name": "stdout",
     "output_type": "stream",
     "text": [
      "m-003: Client expressed concern about rising costs in Q2.\n",
      "m-002: Client is expecting an up-to-date forecast of Q3 to plan ahead for pitfalls.\n"
     ]
    }
   ],
   "source": [
    "# Find all memories related to \"m-001\" within 2 hops in the memory graph,\n",
    "# then print each related memory's ID and summary.\n",
    "related = find_related_memories(\"m-001\", hops=2)\n",
    "for rid, summary in related:\n",
    "    print(f\"{rid}: {summary}\")\n"
   ]
  },
  {
   "cell_type": "markdown",
   "id": "3953ca90-b8ac-40e6-8caf-ea30617626e8",
   "metadata": {},
   "source": [
    "### **Visualize Timeline**"
   ]
  },
  {
   "cell_type": "code",
   "execution_count": 41,
   "id": "2175f536-4d11-41d8-9db8-ae75970174ae",
   "metadata": {},
   "outputs": [
    {
     "data": {
      "text/html": [
       "<div>\n",
       "<style scoped>\n",
       "    .dataframe tbody tr th:only-of-type {\n",
       "        vertical-align: middle;\n",
       "    }\n",
       "\n",
       "    .dataframe tbody tr th {\n",
       "        vertical-align: top;\n",
       "    }\n",
       "\n",
       "    .dataframe thead th {\n",
       "        text-align: right;\n",
       "    }\n",
       "</style>\n",
       "<table border=\"1\" class=\"dataframe\">\n",
       "  <thead>\n",
       "    <tr style=\"text-align: right;\">\n",
       "      <th></th>\n",
       "      <th>id</th>\n",
       "      <th>summary</th>\n",
       "      <th>timestamp</th>\n",
       "      <th>version</th>\n",
       "    </tr>\n",
       "  </thead>\n",
       "  <tbody>\n",
       "    <tr>\n",
       "      <th>0</th>\n",
       "      <td>m-002</td>\n",
       "      <td>Client is expecting an up-to-date forecast of ...</td>\n",
       "      <td>2025-06-22</td>\n",
       "      <td>1</td>\n",
       "    </tr>\n",
       "    <tr>\n",
       "      <th>1</th>\n",
       "      <td>m-003</td>\n",
       "      <td>Client expressed concern about rising costs in...</td>\n",
       "      <td>2025-06-22</td>\n",
       "      <td>1</td>\n",
       "    </tr>\n",
       "    <tr>\n",
       "      <th>2</th>\n",
       "      <td>m-001</td>\n",
       "      <td>Client asked about margin drop in Q2.</td>\n",
       "      <td>2025-06-19</td>\n",
       "      <td>1</td>\n",
       "    </tr>\n",
       "  </tbody>\n",
       "</table>\n",
       "</div>"
      ],
      "text/plain": [
       "      id                                            summary   timestamp  \\\n",
       "0  m-002  Client is expecting an up-to-date forecast of ...  2025-06-22   \n",
       "1  m-003  Client expressed concern about rising costs in...  2025-06-22   \n",
       "2  m-001              Client asked about margin drop in Q2.  2025-06-19   \n",
       "\n",
       "   version  \n",
       "0        1  \n",
       "1        1  \n",
       "2        1  "
      ]
     },
     "metadata": {},
     "output_type": "display_data"
    }
   ],
   "source": [
    "# Fetch the timeline as a pandas DataFrame\n",
    "df_timeline = con.execute(query).fetchdf()\n",
    "\n",
    "# Display the DataFrame as a table in the notebook\n",
    "display(df_timeline)"
   ]
  },
  {
   "cell_type": "markdown",
   "id": "0000d40a-91d0-4d01-ba7a-6a5e4131c608",
   "metadata": {},
   "source": [
    "### **Query Memories (Semantic Search)**"
   ]
  },
  {
   "cell_type": "code",
   "execution_count": 21,
   "id": "105bce44-8812-453c-b34c-3da32fee5fb0",
   "metadata": {},
   "outputs": [
    {
     "name": "stdout",
     "output_type": "stream",
     "text": [
      "Query Results for 'Projections':\n",
      "Client expressed concern about rising costs in Q2.\n",
      "Client asked about margin drop in Q2.\n",
      "Client is expecting an up-to-date forecast of Q3 to plan ahead for pitfalls.\n"
     ]
    }
   ],
   "source": [
    "#Query for Q2 issues\n",
    "results = query_memory(\"Q2 issues\")\n",
    "print(\"Query Results for 'Projections':\")\n",
    "for mem in results:\n",
    "    print(mem[\"summary\"])"
   ]
  },
  {
   "cell_type": "markdown",
   "id": "04531de9-8256-4795-a612-f8b19240c75a",
   "metadata": {},
   "source": [
    "### **Summarize Memories (Using LLM)**"
   ]
  },
  {
   "cell_type": "code",
   "execution_count": 23,
   "id": "07b597fc-f8f8-4908-8264-97932387471f",
   "metadata": {},
   "outputs": [
    {
     "name": "stdout",
     "output_type": "stream",
     "text": [
      "\n",
      "Summary of all memories:\n",
      "The client has noted a decline in their profits due to margin drops, and they are looking for an up-to-date forecast of Q3 to plan ahead for potential pitfalls. The client is concerned about rising costs in Q2 due to fluctuating market conditions.\n"
     ]
    }
   ],
   "source": [
    "#Summarize all memories\n",
    "all_memories = [memory1, memory2, memory3]\n",
    "summary = summarize_memories(all_memories)\n",
    "print(\"\\nSummary of all memories:\")\n",
    "print(summary)"
   ]
  },
  {
   "cell_type": "markdown",
   "id": "83b31c55-1c09-4adb-95f6-46e735cf6e53",
   "metadata": {},
   "source": [
    "### **Compare and Resolve**"
   ]
  },
  {
   "cell_type": "code",
   "execution_count": 46,
   "id": "b316f800-7ffd-4089-8151-872774b30042",
   "metadata": {},
   "outputs": [
    {
     "name": "stdout",
     "output_type": "stream",
     "text": [
      "\n",
      "Diff between memory1 and memory2:\n",
      "⚠️ Difference in summaries:\n",
      "1: Client asked about margin drop in Q2.\n",
      "2: Client is expecting an up-to-date forecast of Q3 to plan ahead for pitfalls.\n"
     ]
    }
   ],
   "source": [
    "#Show diff between two memories\n",
    "print(\"\\nDiff between memory1 and memory2:\")\n",
    "print(diff(memory1, memory2))\n"
   ]
  },
  {
   "cell_type": "code",
   "execution_count": null,
   "id": "b4c9913b-6b07-4c85-a88d-dcd863a8e7a5",
   "metadata": {},
   "outputs": [],
   "source": []
  },
  {
   "cell_type": "code",
   "execution_count": 49,
   "id": "33c452b3-453c-422a-b279-fc73ec23ca6f",
   "metadata": {},
   "outputs": [
    {
     "name": "stdout",
     "output_type": "stream",
     "text": [
      "\n",
      "Resolution between memory1 and memory2:\n",
      "Resolved: The client's concern about a margin drop in Q2 was resolved by the fact that they had previously received a detailed forecast of Q3, which will help them prepare for any potential pitfalls.\n"
     ]
    }
   ],
   "source": [
    "#Resolve contradiction between two memories\n",
    "print(\"\\nResolution between memory1 and memory2:\")\n",
    "print(resolve(memory1, memory2))"
   ]
  }
 ],
 "metadata": {
  "kernelspec": {
   "display_name": "memosynth-env",
   "language": "python",
   "name": "memosynth-env"
  },
  "language_info": {
   "codemirror_mode": {
    "name": "ipython",
    "version": 3
   },
   "file_extension": ".py",
   "mimetype": "text/x-python",
   "name": "python",
   "nbconvert_exporter": "python",
   "pygments_lexer": "ipython3",
   "version": "3.11.13"
  }
 },
 "nbformat": 4,
 "nbformat_minor": 5
}
