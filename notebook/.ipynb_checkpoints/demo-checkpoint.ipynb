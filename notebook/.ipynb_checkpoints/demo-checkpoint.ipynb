{
 "cells": [
  {
   "cell_type": "markdown",
   "id": "4840ce08-54ba-4f6a-b890-905f6e92be1e",
   "metadata": {},
   "source": [
    "## ****MemoSynth-Lite: LLM-Powered Memory System Demo****\n",
    "\n",
    "This notebook demonstrates a robust memory system for LLM agents, combining semantic search (Qdrant), timeline (DuckDB), and graph relationships (Neo4j).\n",
    "Features:\n",
    "1. Semantic search with recency/confidence re-ranking\n",
    "2. Timeline and conflict handling\n",
    "3. Entity and relationship extraction\n",
    "4. Cross-store data consistency\n",
    "5. Performance at scale\n",
    "\n",
    "All code is reproducible and runs from a clean state each time."
   ]
  },
  {
   "cell_type": "markdown",
   "id": "5d3bea0c-c47a-4db1-92ed-d8f305349ffe",
   "metadata": {},
   "source": [
    "### **Table of Contents**\n",
    "1. Environment Setup & State Reset\n",
    "2. Define Memories\n",
    "3. Store Memories\n",
    "4. Timeline Visualization\n",
    "5. Graph Memory\n",
    "6. Query Memory\n",
    "7. Summarization\n",
    "8. Diff and Resolve\n",
    "9. Testing & Consistency Checks\n",
    "10. Performance Test\n",
    "11. All Memories in Qdrant\n"
   ]
  },
  {
   "cell_type": "markdown",
   "id": "7036a39f-b38d-4849-971a-afddc9b9b427",
   "metadata": {},
   "source": [
    "### **Environment Setup & State Reset**\n",
    "This section resets all data stores (Neo4j, Qdrant, DuckDB) to ensure a clean, reproducible demo."
   ]
  },
  {
   "cell_type": "code",
   "execution_count": 3,
   "id": "bb58b8b0-59df-4e2c-bf09-12938082b5cc",
   "metadata": {},
   "outputs": [],
   "source": [
    "#To add the parent directory of your current script or notebook to Python’s module search path.\n",
    "import sys, os, asyncio\n",
    "sys.path.append(os.path.abspath(\"..\"))"
   ]
  },
  {
   "cell_type": "code",
   "execution_count": 5,
   "id": "e372bbd3-f39f-4769-a282-448c07fa3069",
   "metadata": {},
   "outputs": [],
   "source": [
    "#Import your APIs and sample memories\n",
    "from memosynth.memory_client import (\n",
    "    write_and_sync_memory, query_memory, summarize_memories, diff, resolve, example_memory, update_memory\n",
    ")\n",
    "from memosynth.vector_store import get_memory_by_id\n",
    "from memosynth.timeline_store import log_memory\n",
    "from memosynth.graph_store import create_memory_node, relate_memories, find_related_memories\n",
    "import duckdb\n",
    "import pandas as pd\n"
   ]
  },
  {
   "cell_type": "code",
   "execution_count": 7,
   "id": "1effa387-5867-4c5a-adef-99e396bd2abb",
   "metadata": {},
   "outputs": [
    {
     "name": "stdout",
     "output_type": "stream",
     "text": [
      "✅ Neo4j database reset (all nodes and relationships deleted)\n",
      "✅ Qdrant collection 'memos' deleted\n"
     ]
    }
   ],
   "source": [
    "#To delete any existing collection of memories to avoid overlap or confusion\n",
    "from memosynth.graph_store import driver  # This is the AsyncGraphDatabase driver\n",
    "\n",
    "async def reset_neo4j():\n",
    "    async with driver.session() as session:\n",
    "        await session.run(\"MATCH (n) DETACH DELETE n\")\n",
    "    print(\"✅ Neo4j database reset (all nodes and relationships deleted)\")\n",
    "\n",
    "await reset_neo4j()\n",
    "\n",
    "from memosynth.vector_store import client  # This is the AsyncQdrantClient\n",
    "\n",
    "await client.delete_collection(collection_name=\"memos\")\n",
    "print(\"✅ Qdrant collection 'memos' deleted\")\n"
   ]
  },
  {
   "cell_type": "code",
   "execution_count": 9,
   "id": "ff65e026-4b8c-48b0-a132-2f0ec4234900",
   "metadata": {},
   "outputs": [
    {
     "name": "stdout",
     "output_type": "stream",
     "text": [
      "✅ Cleared timeline\n"
     ]
    }
   ],
   "source": [
    "# Clear the timeline table to avoid duplicate entries in a demo\n",
    "con = duckdb.connect(\"memory_timeline.db\")\n",
    "con.execute(\"DELETE FROM memory_log\")\n",
    "print(\"✅ Cleared timeline\")"
   ]
  },
  {
   "cell_type": "markdown",
   "id": "4832689b-22e7-4be8-87e2-3b88b5b6fb2a",
   "metadata": {},
   "source": [
    "### **Define Memories**\n",
    "Here we define three sample memories with rich metadata.\n",
    "These will be used throughout the demo for storage, search, and summarization."
   ]
  },
  {
   "cell_type": "code",
   "execution_count": 12,
   "id": "2b2bd2d2-760a-47cb-8641-903ea97a6bf4",
   "metadata": {},
   "outputs": [],
   "source": [
    "#Define three memories\n",
    "memory1 = example_memory\n",
    "memory2 = {\n",
    "    \"id\": \"m-002\",\n",
    "    \"project\": \"demo_project\",\n",
    "    \"agent\": \"doc_bot\",\n",
    "    \"summary\": \"Client is expecting an up-to-date forecast of Q3 to plan ahead for pitfalls.\",\n",
    "    \"type\": \"insight\",\n",
    "    \"tags\": [\"finance\", \"Q3\", \"forecast\", \"planning\", \"pitfalls\"],\n",
    "    \"source\": \"Finance_Forecast_Q3.pdf\",\n",
    "    \"author\": \"doc_bot\",\n",
    "    \"created_at\": \"2025-06-22\",\n",
    "    \"version\": 1,\n",
    "    \"confidence\": 0.8,\n",
    "    \"visibility\": \"project\",\n",
    "    \"sensitivity\": \"medium\"\n",
    "}\n",
    "memory3 = {\n",
    "    \"id\": \"m-003\",\n",
    "    \"project\": \"demo_project\",\n",
    "    \"agent\": \"doc_bot\",\n",
    "    \"summary\": \"Client expressed concern about rising costs in Q2.\",\n",
    "    \"type\": \"insight\",\n",
    "    \"tags\": [\"finance\", \"Q2\", \"costs\"],\n",
    "    \"source\": \"Finance_Report_Q2.pdf\",\n",
    "    \"author\": \"doc_bot\",\n",
    "    \"created_at\": \"2025-06-22\",\n",
    "    \"version\": 1,\n",
    "    \"confidence\": 0.92,\n",
    "    \"visibility\": \"project\",\n",
    "    \"sensitivity\": \"medium\"\n",
    "}"
   ]
  },
  {
   "cell_type": "markdown",
   "id": "de15f6d3-0639-445e-bb0f-c7ff6e502864",
   "metadata": {},
   "source": [
    "### **Store Memories (Vector, Timeline, Graph)**\n",
    "This section writes each memory to:\n",
    "\n",
    "Qdrant (for semantic search)\n",
    "\n",
    "DuckDB (for timeline)\n",
    "\n",
    "Neo4j (for graph relationships)"
   ]
  },
  {
   "cell_type": "code",
   "execution_count": 15,
   "id": "f41302b2-15c3-4ae6-8cb8-dda90d3137cc",
   "metadata": {},
   "outputs": [
    {
     "name": "stdout",
     "output_type": "stream",
     "text": [
      "✅ Created new memos collection\n"
     ]
    }
   ],
   "source": [
    "from memosynth.vector_store import initialize\n",
    "await initialize()  # Ensures the collection exists before anything else\n",
    "print(\"✅ Created new memos collection\")"
   ]
  },
  {
   "cell_type": "code",
   "execution_count": 17,
   "id": "a2b5f731-03dd-49c6-9e6a-154ea99ca23f",
   "metadata": {},
   "outputs": [
    {
     "name": "stdout",
     "output_type": "stream",
     "text": [
      "📝 Writing memory: m-001\n",
      "✅ Memory m-001 successfully written to Qdrant\n",
      "Memory m-001 written and synced across all stores.\n",
      "📝 Writing memory: m-002\n",
      "✅ Memory m-002 successfully written to Qdrant\n",
      "Memory m-002 written and synced across all stores.\n",
      "📝 Writing memory: m-003\n",
      "✅ Memory m-003 successfully written to Qdrant\n",
      "Memory m-003 written and synced across all stores.\n"
     ]
    }
   ],
   "source": [
    "#Write and log the memories\n",
    "async def store_memories():\n",
    "    await write_and_sync_memory(memory1)\n",
    "    await write_and_sync_memory(memory2)\n",
    "    await write_and_sync_memory(memory3)\n",
    "await store_memories()"
   ]
  },
  {
   "cell_type": "markdown",
   "id": "2be1281f-aa9b-4468-85db-3c252b0e1df9",
   "metadata": {},
   "source": [
    "The timeline table below shows all memories in chronological order.\n",
    "This helps track memory evolution and check for duplicates."
   ]
  },
  {
   "cell_type": "code",
   "execution_count": 19,
   "id": "6bd0e8dd-5f77-48ee-894c-3e45a92b33f1",
   "metadata": {},
   "outputs": [
    {
     "name": "stdout",
     "output_type": "stream",
     "text": [
      "Timeline:\n",
      "      id                                            summary   timestamp  \\\n",
      "0  m-002  Client is expecting an up-to-date forecast of ...  2025-06-22   \n",
      "1  m-003  Client expressed concern about rising costs in...  2025-06-22   \n",
      "2  m-001              Client asked about margin drop in Q2.  2025-06-19   \n",
      "\n",
      "   version  \n",
      "0        1  \n",
      "1        1  \n",
      "2        1  \n"
     ]
    }
   ],
   "source": [
    "# Visualize timeline\n",
    "df_timeline = con.execute(\"SELECT * FROM memory_log ORDER BY timestamp DESC\").fetchdf()\n",
    "print(\"Timeline:\")\n",
    "df_timeline = pd.DataFrame(df_timeline)\n",
    "print(df_timeline)"
   ]
  },
  {
   "cell_type": "markdown",
   "id": "d247b7a4-2729-4263-af0a-1a93c80574f1",
   "metadata": {},
   "source": [
    "### **Graph Memory**\n",
    "Here we create and query relationships between memories in Neo4j.\n",
    "This demonstrates the system's ability to track how memories relate and influence each other."
   ]
  },
  {
   "cell_type": "code",
   "execution_count": 22,
   "id": "06e0585c-9544-40a5-8cc1-facb06d98869",
   "metadata": {},
   "outputs": [
    {
     "name": "stdout",
     "output_type": "stream",
     "text": [
      "\n",
      "Related memories to m-001 (within 2 hops):\n",
      "m-003: Client expressed concern about rising costs in Q2.\n",
      "m-002: Client is expecting an up-to-date forecast of Q3 to plan ahead for pitfalls.\n"
     ]
    }
   ],
   "source": [
    "#Create Additional Relationships\n",
    "async def graph_demo():\n",
    "    await relate_memories(memory1[\"id\"], memory2[\"id\"], relationship=\"RELATED_TO\")\n",
    "    await relate_memories(memory3[\"id\"], memory1[\"id\"], relationship=\"FOLLOWS\")\n",
    "    await relate_memories(memory3[\"id\"], memory2[\"id\"], relationship=\"CAUSES\")\n",
    "    # Find related memories (2 hops from memory1)\n",
    "    related = await find_related_memories(memory1[\"id\"], max_hops=2)\n",
    "    print(\"\\nRelated memories to m-001 (within 2 hops):\")\n",
    "    for rid, summary in related:\n",
    "        print(f\"{rid}: {summary}\")\n",
    "await graph_demo()\n"
   ]
  },
  {
   "cell_type": "code",
   "execution_count": null,
   "id": "6978431e-9989-4270-9d1d-b05d22a1444f",
   "metadata": {},
   "outputs": [],
   "source": [
    "# Show all Memory and Entity nodes in Neo4j\n",
    "async def show_graph_nodes():\n",
    "    async with driver.session() as session:\n",
    "        memories = await session.run(\"MATCH (m:Memory) RETURN m.id AS id, m.summary AS summary\")\n",
    "        entities = await session.run(\"MATCH (e:Entity) RETURN e.id AS id, e.name AS name, e.type AS type\")\n",
    "        print(\"Memories:\")\n",
    "        for record in await memories.data():\n",
    "            print(record)\n",
    "        print(\"\\nEntities:\")\n",
    "        for record in await entities.data():\n",
    "            print(record)\n",
    "await show_graph_nodes()\n"
   ]
  },
  {
   "cell_type": "markdown",
   "id": "0000d40a-91d0-4d01-ba7a-6a5e4131c608",
   "metadata": {},
   "source": [
    "### **Query Memories (Semantic Search with Recency/Confidence)**\n",
    "This section demonstrates semantic search with recency and confidence re-ranking.\n",
    "The results show the most relevant memories for a given query."
   ]
  },
  {
   "cell_type": "code",
   "execution_count": 25,
   "id": "105bce44-8812-453c-b34c-3da32fee5fb0",
   "metadata": {},
   "outputs": [
    {
     "name": "stdout",
     "output_type": "stream",
     "text": [
      "\n",
      "Query Results for 'What are Q2 risks?':\n",
      "Client expressed concern about rising costs in Q2. (confidence: 0.92, last_accessed: 2025-06-27T03:29:29.131540+00:00)\n",
      "Client is expecting an up-to-date forecast of Q3 to plan ahead for pitfalls. (confidence: 0.8, last_accessed: 2025-06-27T03:29:26.649279+00:00)\n",
      "Client asked about margin drop in Q2. (confidence: 0.9, last_accessed: 2025-06-27T03:29:24.350402+00:00)\n"
     ]
    }
   ],
   "source": [
    "#Query for Q2 issues\n",
    "async def query_demo():\n",
    "    results = await query_memory(\"What are Q2 risks?\")\n",
    "    print(\"\\nQuery Results for 'What are Q2 risks?':\")\n",
    "    for mem in results:\n",
    "        print(f\"{mem['summary']} (confidence: {mem['confidence']}, last_accessed: {mem.get('last_accessed')})\")\n",
    "await query_demo()\n"
   ]
  },
  {
   "cell_type": "markdown",
   "id": "04531de9-8256-4795-a612-f8b19240c75a",
   "metadata": {},
   "source": [
    "### **Summarize Memories (Using LLM)**\n",
    "\n",
    "We use an LLM to summarize all memories in a single, concise paragraph.\n",
    "\n",
    "LLM output is automatically cleaned and repaired using the json-repair library to handle malformed JSON."
   ]
  },
  {
   "cell_type": "code",
   "execution_count": 28,
   "id": "07b597fc-f8f8-4908-8264-97932387471f",
   "metadata": {},
   "outputs": [
    {
     "name": "stdout",
     "output_type": "stream",
     "text": [
      "\n",
      "Summary of all memories:\n",
      "According to the given text, the client mentioned that they expect a potential downfall in Q3 due to rising costs in Q2. They also expressed concerns related to margin drop in Q2 and were requesting an up-to-date forecast of Q3 to plan ahead for potential pitfalls.\n"
     ]
    }
   ],
   "source": [
    "#Summarize all memories\n",
    "async def summarize_demo():\n",
    "    all_memories = [memory1, memory2, memory3]\n",
    "    summary = await summarize_memories(all_memories)\n",
    "    print(\"\\nSummary of all memories:\")\n",
    "    print(summary)\n",
    "await summarize_demo()"
   ]
  },
  {
   "cell_type": "markdown",
   "id": "83b31c55-1c09-4adb-95f6-46e735cf6e53",
   "metadata": {},
   "source": [
    "### **Compare and Resolve**\n",
    "This section compares two memories for differences and uses the LLM to resolve any contradictions.\n",
    "This is critical for reconciling conflicting information in long-term memory systems."
   ]
  },
  {
   "cell_type": "code",
   "execution_count": 31,
   "id": "b316f800-7ffd-4089-8151-872774b30042",
   "metadata": {},
   "outputs": [
    {
     "name": "stdout",
     "output_type": "stream",
     "text": [
      "\n",
      "Diff between memory1 and memory2:\n",
      "⚠️ Difference in summaries (cosine similarity: 0.365):\n",
      "1: Client asked about margin drop in Q2.\n",
      "2: Client is expecting an up-to-date forecast of Q3 to plan ahead for pitfalls.\n",
      "\n",
      "Resolution between memory1 and memory2:\n",
      "After researching and analyzing multiple sources, I have come to a reconcile conclusion that while there has been a slight margin decline in Q2 (i.e., the second quarter), it is expected to stabilize by Q3 due to various factors, such as an anticipated uptick in sales volumes and improved market conditions. Therefore, the client can plan ahead accordingly for any potential pitfalls that may arise during this period. The reconcile conclusion is based on multiple sources' perspectives and data analysis, and it has been reached after thorough research and evaluation of conflicting insights from various angles.\n"
     ]
    }
   ],
   "source": [
    "async def compare_and_resolve_demo():\n",
    "    print(\"\\nDiff between memory1 and memory2:\")\n",
    "    print(await diff(memory1, memory2))                # No model parameter needed\n",
    "    print(\"\\nResolution between memory1 and memory2:\")\n",
    "    print(await resolve(memory1, memory2))\n",
    "await compare_and_resolve_demo()"
   ]
  },
  {
   "cell_type": "markdown",
   "id": "a41561f6-aa7e-4096-9b8f-7344b663b823",
   "metadata": {},
   "source": [
    "### **Testing Core Features**\n",
    "Here we test and validate each core feature:\n",
    "1. Qdrant collection status\n",
    "2. Timeline consistency and duplicate detection\n",
    "3. Neo4j graph structure and relationships\n",
    "4. Entity extraction quality\n",
    "5. Update and Conflict handling\n",
    "6. Semantic Search Effectiveness\n",
    "7. Cross Store Data consistency"
   ]
  },
  {
   "cell_type": "code",
   "execution_count": 34,
   "id": "72c91f1a-5339-4ad5-8715-a4be7f29951e",
   "metadata": {},
   "outputs": [
    {
     "name": "stdout",
     "output_type": "stream",
     "text": [
      "{\"result\":{\"collections\":[{\"name\":\"memos\"}]},\"status\":\"ok\",\"time\":0.000165833}\n"
     ]
    }
   ],
   "source": [
    "import httpx\n",
    "response = httpx.get(\"http://localhost:6333/collections\")\n",
    "print(response.text)\n"
   ]
  },
  {
   "cell_type": "code",
   "execution_count": 36,
   "id": "26396fca-bfb2-4f48-bc37-03451dcdae4b",
   "metadata": {},
   "outputs": [
    {
     "name": "stdout",
     "output_type": "stream",
     "text": [
      "collections=[CollectionDescription(name='memos')]\n"
     ]
    }
   ],
   "source": [
    "from qdrant_client import AsyncQdrantClient\n",
    "\n",
    "client = AsyncQdrantClient(\"http://localhost:6333\")\n",
    "collections = await client.get_collections()\n",
    "print(collections)\n"
   ]
  },
  {
   "cell_type": "code",
   "execution_count": 38,
   "id": "64dcfb9d-9996-4da7-b1ee-24715bb68074",
   "metadata": {},
   "outputs": [
    {
     "name": "stdout",
     "output_type": "stream",
     "text": [
      "=== Test 1a: Qdrant Collection Status ===\n",
      "Available collections: collections=[CollectionDescription(name='memos')]\n",
      "✅ Found 3 points:\n",
      "  Point ID: 053a97d4... | Custom ID: m-001\n",
      "  Point ID: 3fe8a291... | Custom ID: m-002\n",
      "  Point ID: 6b05b2dd... | Custom ID: m-003\n"
     ]
    }
   ],
   "source": [
    "# Test 1: Qdrant Collection Status (Fixed)\n",
    "print(\"=== Test 1a: Qdrant Collection Status ===\")\n",
    "from memosynth.vector_store import client  # Use the SAME async client\n",
    "import asyncio\n",
    "async def test_qdrant_properly():\n",
    "    collections = await client.get_collections()\n",
    "    print(f\"Available collections: {collections}\")\n",
    "    \n",
    "    result = await client.scroll(\n",
    "        collection_name=\"memos\",\n",
    "        limit=10,\n",
    "        with_payload=True,\n",
    "        with_vectors=False\n",
    "    )\n",
    "    \n",
    "    # FIXED: Check result[0] (points list), not result[1] (next page offset)\n",
    "    if result and result[0]:  # ✅ Correct!\n",
    "        print(f\"✅ Found {len(result[0])} points:\")\n",
    "        for pt in result[0]:\n",
    "            print(f\"  Point ID: {pt.id[:8]}... | Custom ID: {pt.payload['id']}\")\n",
    "    else:\n",
    "        print(\"❌ No points returned by scroll\")\n",
    "\n",
    "await test_qdrant_properly()\n"
   ]
  },
  {
   "cell_type": "code",
   "execution_count": 40,
   "id": "a27c6c14-5356-4b80-bdf9-079869c1713e",
   "metadata": {},
   "outputs": [
    {
     "name": "stdout",
     "output_type": "stream",
     "text": [
      "\n",
      "=== Test 2: Timeline Integrity ===\n",
      "Timeline entries: 3\n",
      "      id                                            summary   timestamp  \\\n",
      "0  m-002  Client is expecting an up-to-date forecast of ...  2025-06-22   \n",
      "1  m-003  Client expressed concern about rising costs in...  2025-06-22   \n",
      "2  m-001              Client asked about margin drop in Q2.  2025-06-19   \n",
      "\n",
      "   version  \n",
      "0        1  \n",
      "1        1  \n",
      "2        1  \n",
      "✅ No duplicate entries in timeline\n"
     ]
    }
   ],
   "source": [
    "# Test 2: Timeline Consistency\n",
    "print(\"\\n=== Test 2: Timeline Integrity ===\")\n",
    "import duckdb\n",
    "con = duckdb.connect(\"memory_timeline.db\")\n",
    "\n",
    "# Check all timeline entries\n",
    "timeline_df = con.execute(\"SELECT * FROM memory_log ORDER BY timestamp DESC\").fetchdf()\n",
    "print(f\"Timeline entries: {len(timeline_df)}\")\n",
    "print(timeline_df)\n",
    "\n",
    "# Check for duplicates\n",
    "duplicates = con.execute(\"\"\"\n",
    "    SELECT id, COUNT(*) as count \n",
    "    FROM memory_log \n",
    "    GROUP BY id \n",
    "    HAVING count > 1\n",
    "\"\"\").fetchdf()\n",
    "\n",
    "if duplicates.empty:\n",
    "    print(\"✅ No duplicate entries in timeline\")\n",
    "else:\n",
    "    print(f\"⚠️ Found duplicates: {duplicates}\")\n"
   ]
  },
  {
   "cell_type": "code",
   "execution_count": 42,
   "id": "23318178-c707-40f3-95ae-d488c9e54df4",
   "metadata": {},
   "outputs": [
    {
     "name": "stdout",
     "output_type": "stream",
     "text": [
      "\n",
      "=== Test 3: Graph Relationships ===\n",
      "Node counts by label:\n",
      "  ['Memory']: 3\n",
      "  ['Entity']: 5\n",
      "\n",
      "Relationships:\n",
      "  m-001 --MENTIONS-> organization1\n",
      "  entity1 --RELATIONSHIP_TYPE-> entity2\n",
      "  m-002 --MENTIONS-> entity1\n",
      "  m-002 --MENTIONS-> entity2\n",
      "  m-003 --MENTIONS-> organization1\n",
      "  m-003 --MENTIONS-> organization1\n",
      "  m-003 --MENTIONS-> organization2\n",
      "  m-001 --RELATED_TO-> m-002\n",
      "  m-003 --FOLLOWS-> m-001\n",
      "  m-003 --CAUSES-> m-002\n"
     ]
    }
   ],
   "source": [
    "# Test 3: Neo4j Graph Structure\n",
    "print(\"\\n=== Test 3: Graph Relationships ===\")\n",
    "from memosynth.graph_store import driver\n",
    "\n",
    "async def test_graph_structure():\n",
    "    async with driver.session() as session:\n",
    "        # Count all nodes\n",
    "        result = await session.run(\"MATCH (n) RETURN labels(n) as label, count(n) as count\")\n",
    "        records = await result.data()\n",
    "        print(\"Node counts by label:\")\n",
    "        for record in records:\n",
    "            print(f\"  {record['label']}: {record['count']}\")\n",
    "        \n",
    "        # Show all relationships\n",
    "        result = await session.run(\"MATCH (a)-[r]->(b) RETURN a.id, type(r), b.id LIMIT 10\")\n",
    "        records = await result.data()\n",
    "        print(\"\\nRelationships:\")\n",
    "        for record in records:\n",
    "            print(f\"  {record['a.id']} --{record['type(r)']}-> {record['b.id']}\")\n",
    "\n",
    "await test_graph_structure()\n"
   ]
  },
  {
   "cell_type": "code",
   "execution_count": 44,
   "id": "b29fc232-b3d8-492f-8dde-fbc06988ffe8",
   "metadata": {},
   "outputs": [
    {
     "name": "stdout",
     "output_type": "stream",
     "text": [
      "\n",
      "=== Test 4: Entity Extraction Quality ===\n",
      "\n",
      "Test 1: Microsoft announced partnership with OpenAI for Q3 2024\n",
      "  Entities: 1\n",
      "    - Microsoft (organization)\n",
      "  Relationships: 1\n",
      "    - entity1 --RELATIONSHIP_TYPE-> entity2\n",
      "\n",
      "Test 2: The CEO mentioned budget concerns during the board meeting\n",
      "  Entities: 1\n",
      "    - CEO Mentioned Budget Concerns During Board Meeting (organization)\n",
      "  Relationships: 1\n",
      "    - entity1 --RELATIONSHIP_TYPE-> entity2\n",
      "\n",
      "Test 3: Client expressed satisfaction with the new product launch\n",
      "  Entities: 1\n",
      "    - Client expressed satisfaction with the new product launch (organization)\n",
      "  Relationships: 1\n",
      "    - entity1 --RELATIONSHIP_TYPE-> entity2\n"
     ]
    }
   ],
   "source": [
    "# Test 4: Entity Extraction Testing\n",
    "print(\"\\n=== Test 4: Entity Extraction Quality ===\")\n",
    "from memosynth.graph_store import extract_entities_and_relationships\n",
    "\n",
    "test_summaries = [\n",
    "    \"Microsoft announced partnership with OpenAI for Q3 2024\",\n",
    "    \"The CEO mentioned budget concerns during the board meeting\",\n",
    "    \"Client expressed satisfaction with the new product launch\"\n",
    "]\n",
    "\n",
    "for i, summary in enumerate(test_summaries):\n",
    "    print(f\"\\nTest {i+1}: {summary}\")\n",
    "    result = await extract_entities_and_relationships(summary)\n",
    "    print(f\"  Entities: {len(result['nodes'])}\")\n",
    "    for node in result['nodes']:\n",
    "        print(f\"    - {node.get('name', 'N/A')} ({node.get('type', 'unknown')})\")\n",
    "    print(f\"  Relationships: {len(result['edges'])}\")\n",
    "    for edge in result['edges']:\n",
    "        print(f\"    - {edge.get('source', 'N/A')} --{edge.get('type', 'RELATED')}-> {edge.get('target', 'N/A')}\")\n"
   ]
  },
  {
   "cell_type": "code",
   "execution_count": 46,
   "id": "5c008f20-6fe8-4b8d-a28e-bc9402e4b049",
   "metadata": {},
   "outputs": [
    {
     "name": "stdout",
     "output_type": "stream",
     "text": [
      "\n",
      "=== Test 5: Memory Update & Conflict Testing ===\n",
      "Original memory version: 1\n",
      "📝 Writing memory: m-001\n",
      "✅ Memory m-001 successfully written to Qdrant\n",
      "Memory updated successfully.\n",
      "Updated memory version: 2\n",
      "Version conflict detected!\n",
      "Current version: 2, Your version: 1\n",
      "Recent conflicts:\n",
      "                          timestamp conflict_type new_memory_id  \\\n",
      "0  2025-06-27T03:30:51.808397+00:00       version         m-001   \n",
      "1  2025-06-27T01:14:07.049066+00:00       version         m-001   \n",
      "2  2025-06-27T01:14:07.030776+00:00       version         m-001   \n",
      "3  2025-06-27T01:13:48.023943+00:00       version         m-001   \n",
      "4  2025-06-27T01:13:47.961855+00:00       version         m-001   \n",
      "\n",
      "  current_memory_id                                        new_summary  \\\n",
      "0             m-001  CONFLICT: Different interpretation of Q2 margi...   \n",
      "1             m-001  CONFLICT: Different interpretation of Q2 margi...   \n",
      "2             m-001  UPDATED: Client asked about margin drop in Q2 ...   \n",
      "3             m-001  CONFLICT: Different interpretation of Q2 margi...   \n",
      "4             m-001  UPDATED: Client asked about margin drop in Q2 ...   \n",
      "\n",
      "                                     current_summary  new_version  \\\n",
      "0  UPDATED: Client asked about margin drop in Q2 ...            1   \n",
      "1  UPDATED: Client asked about margin drop in Q2 ...            1   \n",
      "2  UPDATED: Client asked about margin drop in Q2 ...            1   \n",
      "3  UPDATED: Client asked about margin drop in Q2 ...            1   \n",
      "4  UPDATED: Client asked about margin drop in Q2 ...            1   \n",
      "\n",
      "   current_version  new_confidence  current_confidence  \n",
      "0                2             0.9                 0.9  \n",
      "1                2             0.9                 0.9  \n",
      "2                2             0.9                 0.9  \n",
      "3                2             0.9                 0.9  \n",
      "4                2             0.9                 0.9  \n"
     ]
    }
   ],
   "source": [
    "# Test 5: Update and Conflict Handling\n",
    "print(\"\\n=== Test 5: Memory Update & Conflict Testing ===\")\n",
    "from memosynth.memory_client import update_memory\n",
    "\n",
    "# Test 5a: Update existing memory (should increment version)\n",
    "memory1_update = memory1.copy()\n",
    "memory1_update[\"summary\"] = \"UPDATED: Client asked about margin drop in Q2 and requested action plan\"\n",
    "memory1_update[\"version\"] = 1  # Same version, should increment\n",
    "\n",
    "print(\"Original memory version:\", memory1[\"version\"])\n",
    "await update_memory(memory1_update)\n",
    "\n",
    "# Verify update\n",
    "updated = await get_memory_by_id(\"m-001\")\n",
    "print(\"Updated memory version:\", updated[\"version\"] if updated else \"None\")\n",
    "\n",
    "# Test 5b: Create conflict (old version)\n",
    "memory1_conflict = memory1.copy()\n",
    "memory1_conflict[\"summary\"] = \"CONFLICT: Different interpretation of Q2 margin issue\"\n",
    "memory1_conflict[\"version\"] = 1  # Deliberately old version\n",
    "\n",
    "await update_memory(memory1_conflict)\n",
    "\n",
    "# Check conflict log\n",
    "conflict_df = con.execute(\"SELECT * FROM conflict_log ORDER BY timestamp DESC LIMIT 5\").fetchdf()\n",
    "print(\"Recent conflicts:\")\n",
    "print(conflict_df)\n"
   ]
  },
  {
   "cell_type": "code",
   "execution_count": 48,
   "id": "07cdcfc7-ac5a-44a8-9408-6ffc6b347c5e",
   "metadata": {},
   "outputs": [
    {
     "name": "stdout",
     "output_type": "stream",
     "text": [
      "\n",
      "=== Test 6: Semantic Search Quality ===\n",
      "\n",
      "Query: 'financial concerns Q2'\n",
      "  1. m-003: Client expressed concern about rising costs in Q2....\n",
      "     Confidence: 0.92\n",
      "  2. m-001: UPDATED: Client asked about margin drop in Q2 and requested ...\n",
      "     Confidence: 0.9\n",
      "\n",
      "Query: 'future planning Q3'\n",
      "  1. m-002: Client is expecting an up-to-date forecast of Q3 to plan ahe...\n",
      "     Confidence: 0.8\n",
      "  2. m-003: Client expressed concern about rising costs in Q2....\n",
      "     Confidence: 0.92\n",
      "\n",
      "Query: 'client satisfaction issues'\n",
      "  1. m-003: Client expressed concern about rising costs in Q2....\n",
      "     Confidence: 0.92\n",
      "  2. m-001: UPDATED: Client asked about margin drop in Q2 and requested ...\n",
      "     Confidence: 0.9\n",
      "\n",
      "Query: 'budget problems cost overruns'\n",
      "  1. m-003: Client expressed concern about rising costs in Q2....\n",
      "     Confidence: 0.92\n",
      "  2. m-002: Client is expecting an up-to-date forecast of Q3 to plan ahe...\n",
      "     Confidence: 0.8\n"
     ]
    }
   ],
   "source": [
    "# Test 6: Semantic Search Effectiveness\n",
    "print(\"\\n=== Test 6: Semantic Search Quality ===\")\n",
    "from memosynth.memory_client import query_memory\n",
    "\n",
    "test_queries = [\n",
    "    \"financial concerns Q2\",\n",
    "    \"future planning Q3\",\n",
    "    \"client satisfaction issues\",\n",
    "    \"budget problems cost overruns\"\n",
    "]\n",
    "\n",
    "for query in test_queries:\n",
    "    print(f\"\\nQuery: '{query}'\")\n",
    "    results = await query_memory(query, top_k=2)\n",
    "    for i, mem in enumerate(results):\n",
    "        print(f\"  {i+1}. {mem['id']}: {mem['summary'][:60]}...\")\n",
    "        print(f\"     Confidence: {mem.get('confidence', 'N/A')}\")\n"
   ]
  },
  {
   "cell_type": "code",
   "execution_count": null,
   "id": "a1148439-68c1-412c-81de-9f409a12d727",
   "metadata": {},
   "outputs": [],
   "source": [
    "# Test 7: Cross-Store Data Consistency\n",
    "print(\"\\n=== Test 7: Cross-Store Consistency Check ===\")\n",
    "\n",
    "# Qdrant\n",
    "qdrant_ids = set()\n",
    "points_info = await client.scroll(collection_name=\"memos\", limit=100)\n",
    "if points_info and points_info[0]:\n",
    "    for pt in points_info[0]:\n",
    "        qdrant_ids.add(pt.payload['id'])\n",
    "\n",
    "# DuckDB\n",
    "timeline_ids = set(con.execute(\"SELECT DISTINCT id FROM memory_log\").fetchdf()['id'].tolist())\n",
    "\n",
    "# Neo4j\n",
    "async def get_neo4j_memory_ids():\n",
    "    async with driver.session() as session:\n",
    "        result = await session.run(\"MATCH (m:Memory) RETURN m.id as id\")\n",
    "        records = await result.data()\n",
    "        return set(record['id'] for record in records)\n",
    "neo4j_ids = await get_neo4j_memory_ids()\n",
    "\n",
    "# Compare\n",
    "if qdrant_ids == timeline_ids == neo4j_ids:\n",
    "    print(\"✅ All stores have consistent memory IDs\")\n",
    "else:\n",
    "    print(\"⚠️ Inconsistency detected:\")\n",
    "    print(f\"  Missing from Timeline: {qdrant_ids - timeline_ids}\")\n",
    "    print(f\"  Missing from Neo4j: {qdrant_ids - neo4j_ids}\")\n",
    "    print(f\"  Missing from Qdrant: {timeline_ids - qdrant_ids}\")\n"
   ]
  },
  {
   "cell_type": "markdown",
   "id": "ef33cad1-6991-457c-8756-d71b04b523ba",
   "metadata": {},
   "source": [
    "### **Performance Test**\n",
    "We test the system's performance by inserting multiple memories and timing the process.\n",
    "A summary table shows all inserted test memories."
   ]
  },
  {
   "cell_type": "code",
   "execution_count": 52,
   "id": "aa1a8276-1004-464f-8f89-c50a00e1b68e",
   "metadata": {},
   "outputs": [
    {
     "name": "stdout",
     "output_type": "stream",
     "text": [
      "\n",
      "=== Test 8: Performance & Scale Test ===\n",
      "📝 Writing memory: perf-test-000\n",
      "✅ Memory perf-test-000 successfully written to Qdrant\n",
      "Memory perf-test-000 written and synced across all stores.\n",
      "📝 Writing memory: perf-test-001\n",
      "✅ Memory perf-test-001 successfully written to Qdrant\n",
      "Memory perf-test-001 written and synced across all stores.\n",
      "📝 Writing memory: perf-test-002\n",
      "✅ Memory perf-test-002 successfully written to Qdrant\n",
      "Memory perf-test-002 written and synced across all stores.\n",
      "📝 Writing memory: perf-test-003\n",
      "✅ Memory perf-test-003 successfully written to Qdrant\n",
      "Memory perf-test-003 written and synced across all stores.\n",
      "📝 Writing memory: perf-test-004\n",
      "✅ Memory perf-test-004 successfully written to Qdrant\n",
      "Memory perf-test-004 written and synced across all stores.\n",
      "Inserted 5 memories in 8.73 seconds\n",
      "Average: 1.75 seconds per memory\n",
      "Query completed in 0.063 seconds\n",
      "Found 3 results\n"
     ]
    }
   ],
   "source": [
    "# Performance Test with Multiple Memories\n",
    "print(\"\\n=== Test 8: Performance & Scale Test ===\")\n",
    "import time\n",
    "from memosynth.memory_client import write_and_sync_memory\n",
    "\n",
    "# Create batch of test memories\n",
    "test_memories = []\n",
    "for i in range(5):\n",
    "    test_mem = {\n",
    "        \"id\": f\"perf-test-{i:03d}\",\n",
    "        \"summary\": f\"Performance test memory {i} with various content and details\",\n",
    "        \"project\": \"performance_test\",\n",
    "        \"agent\": \"test_bot\",\n",
    "        \"type\": \"test\",\n",
    "        \"version\": 1,\n",
    "        \"confidence\": 0.7 + (i * 0.05),\n",
    "        \"created_at\": \"2025-06-26\"\n",
    "    }\n",
    "    test_memories.append(test_mem)\n",
    "\n",
    "# Time the batch insertion\n",
    "start_time = time.time()\n",
    "for mem in test_memories:\n",
    "    await write_and_sync_memory(mem)\n",
    "end_time = time.time()\n",
    "\n",
    "print(f\"Inserted {len(test_memories)} memories in {end_time - start_time:.2f} seconds\")\n",
    "print(f\"Average: {(end_time - start_time) / len(test_memories):.2f} seconds per memory\")\n",
    "\n",
    "# Test query performance\n",
    "start_time = time.time()\n",
    "results = await query_memory(\"performance test content\", top_k=3)\n",
    "end_time = time.time()\n",
    "print(f\"Query completed in {end_time - start_time:.3f} seconds\")\n",
    "print(f\"Found {len(results)} results\")\n"
   ]
  },
  {
   "cell_type": "markdown",
   "id": "6c403adb-ccf0-4d9e-ae9f-8afdc05bafe8",
   "metadata": {},
   "source": [
    "### **List All Memories in Qdrant**\n",
    "This cell lists all memories currently stored in Qdrant, for manual inspection and debugging."
   ]
  },
  {
   "cell_type": "code",
   "execution_count": 54,
   "id": "0549cacf-83a9-42b4-8389-79e03b7b85b4",
   "metadata": {},
   "outputs": [
    {
     "name": "stdout",
     "output_type": "stream",
     "text": [
      "{'id': 'm-001', 'project': 'demo_project', 'agent': 'doc_bot', 'summary': 'UPDATED: Client asked about margin drop in Q2 and requested action plan', 'type': 'insight', 'tags': ['finance', 'Q2', 'risk'], 'source': 'Earnings_Report_Q2.pdf', 'author': 'doc_bot', 'created_at': '2025-06-19', 'version': 2, 'confidence': 0.9, 'visibility': 'project', 'sensitivity': 'medium', 'last_accessed': '2025-06-27T03:30:49.998383+00:00', 'qdrant_id': '053a97d4-b7ca-4c6f-9408-39f27db7ce3d'}\n",
      "{'id': 'perf-test-002', 'summary': 'Performance test memory 2 with various content and details', 'project': 'performance_test', 'agent': 'test_bot', 'type': 'test', 'version': 1, 'confidence': 0.7999999999999999, 'created_at': '2025-06-26', 'qdrant_id': '2e0d8d96-88c4-435a-bc5b-2e6a02b3a35b', 'last_accessed': '2025-06-27T03:31:42.931769+00:00'}\n",
      "{'id': 'm-002', 'project': 'demo_project', 'agent': 'doc_bot', 'summary': 'Client is expecting an up-to-date forecast of Q3 to plan ahead for pitfalls.', 'type': 'insight', 'tags': ['finance', 'Q3', 'forecast', 'planning', 'pitfalls'], 'source': 'Finance_Forecast_Q3.pdf', 'author': 'doc_bot', 'created_at': '2025-06-22', 'version': 1, 'confidence': 0.8, 'visibility': 'project', 'sensitivity': 'medium', 'qdrant_id': '3fe8a291-7356-4ca1-a924-1ad3abe618e1', 'last_accessed': '2025-06-27T03:29:26.649279+00:00'}\n",
      "{'id': 'perf-test-001', 'summary': 'Performance test memory 1 with various content and details', 'project': 'performance_test', 'agent': 'test_bot', 'type': 'test', 'version': 1, 'confidence': 0.75, 'created_at': '2025-06-26', 'qdrant_id': '444345ba-c428-4067-89b4-c33f9a7c7746', 'last_accessed': '2025-06-27T03:31:41.224958+00:00'}\n",
      "{'id': 'm-003', 'project': 'demo_project', 'agent': 'doc_bot', 'summary': 'Client expressed concern about rising costs in Q2.', 'type': 'insight', 'tags': ['finance', 'Q2', 'costs'], 'source': 'Finance_Report_Q2.pdf', 'author': 'doc_bot', 'created_at': '2025-06-22', 'version': 1, 'confidence': 0.92, 'visibility': 'project', 'sensitivity': 'medium', 'qdrant_id': '6b05b2dd-db5f-4e21-99f3-cef15f4ceb6b', 'last_accessed': '2025-06-27T03:29:29.131540+00:00'}\n",
      "{'id': 'perf-test-003', 'summary': 'Performance test memory 3 with various content and details', 'project': 'performance_test', 'agent': 'test_bot', 'type': 'test', 'version': 1, 'confidence': 0.85, 'created_at': '2025-06-26', 'qdrant_id': 'c41a8477-c506-4f9b-b4ca-62c551ce8352', 'last_accessed': '2025-06-27T03:31:44.681976+00:00'}\n",
      "{'id': 'perf-test-000', 'summary': 'Performance test memory 0 with various content and details', 'project': 'performance_test', 'agent': 'test_bot', 'type': 'test', 'version': 1, 'confidence': 0.7, 'created_at': '2025-06-26', 'qdrant_id': 'd40211ca-cf34-4dde-ad77-69ae3ad69072', 'last_accessed': '2025-06-27T03:31:39.521405+00:00'}\n",
      "{'id': 'perf-test-004', 'summary': 'Performance test memory 4 with various content and details', 'project': 'performance_test', 'agent': 'test_bot', 'type': 'test', 'version': 1, 'confidence': 0.8999999999999999, 'created_at': '2025-06-26', 'qdrant_id': 'e971dbb2-b3f6-45fd-8d2f-a0b7442e59ac', 'last_accessed': '2025-06-27T03:31:46.395059+00:00'}\n"
     ]
    }
   ],
   "source": [
    "# List all memories in Qdrant\n",
    "points = await client.scroll(collection_name=\"memos\", limit=20)\n",
    "for pt in points[0]:\n",
    "    print(pt.payload)"
   ]
  }
 ],
 "metadata": {
  "kernelspec": {
   "display_name": "memosynth-env",
   "language": "python",
   "name": "memosynth-env"
  },
  "language_info": {
   "codemirror_mode": {
    "name": "ipython",
    "version": 3
   },
   "file_extension": ".py",
   "mimetype": "text/x-python",
   "name": "python",
   "nbconvert_exporter": "python",
   "pygments_lexer": "ipython3",
   "version": "3.11.13"
  }
 },
 "nbformat": 4,
 "nbformat_minor": 5
}
